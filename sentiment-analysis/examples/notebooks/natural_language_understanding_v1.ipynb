{
 "cells": [
  {
   "cell_type": "code",
   "execution_count": 4,
   "metadata": {
    "collapsed": true,
    "deletable": true,
    "editable": true
   },
   "outputs": [],
   "source": [
    "import sys\n",
    "import os\n",
    "sys.path.append(os.path.join(os.getcwd(),'..'))\n",
    "import watson_developer_cloud\n",
    "from watson_developer_cloud.natural_language_understanding_v1 import Features, EntitiesOptions, KeywordsOptions"
   ]
  },
  {
   "cell_type": "code",
   "execution_count": 3,
   "metadata": {
    "collapsed": false,
    "deletable": true,
    "editable": true
   },
   "outputs": [],
   "source": [
    "nlu = watson_developer_cloud.NaturalLanguageUnderstandingV1(version='2017-02-27',\n",
    "                                                            username='USERNAME',\n",
    "                                                            password='PASSWORD')"
   ]
  },
  {
   "cell_type": "code",
   "execution_count": 6,
   "metadata": {
    "collapsed": false,
    "deletable": true,
    "editable": true
   },
   "outputs": [
    {
     "data": {
      "text/plain": [
       "{'entities': [{'count': 3,\n",
       "   'relevance': 0.915411,\n",
       "   'text': 'Bruce Banner',\n",
       "   'type': 'Person'},\n",
       "  {'count': 1, 'relevance': 0.296395, 'text': 'Wayne', 'type': 'Person'}],\n",
       " 'keywords': [{'relevance': 0.984789, 'text': 'Bruce Banner'},\n",
       "  {'relevance': 0.958833, 'text': 'Bruce Wayne'},\n",
       "  {'relevance': 0.853322, 'text': 'experimental text'},\n",
       "  {'relevance': 0.627454, 'text': 'Hulk'},\n",
       "  {'relevance': 0.619956, 'text': 'Superman'},\n",
       "  {'relevance': 0.583188, 'text': 'BATMAN'}],\n",
       " 'language': 'en'}"
      ]
     },
     "execution_count": 6,
     "metadata": {},
     "output_type": "execute_result"
    }
   ],
   "source": [
    "nlu.analyze(text='this is my experimental text.  Bruce Banner is the Hulk and Bruce Wayne is BATMAN! Superman fears not Banner, but Wayne.',\n",
    "            features=Features(entities=EntitiesOptions(), keywords=KeywordsOptions()))"
   ]
  },
  {
   "cell_type": "code",
   "execution_count": null,
   "metadata": {
    "collapsed": true,
    "deletable": true,
    "editable": true
   },
   "outputs": [],
   "source": [
    ""
   ]
  }
 ],
 "metadata": {
  "kernelspec": {
   "display_name": "Python 3",
   "language": "python",
   "name": "python3"
  },
  "language_info": {
   "codemirror_mode": {
    "name": "ipython",
    "version": 3.0
   },
   "file_extension": ".py",
   "mimetype": "text/x-python",
   "name": "python",
   "nbconvert_exporter": "python",
   "pygments_lexer": "ipython3",
   "version": "3.6.0"
  }
 },
 "nbformat": 4,
 "nbformat_minor": 0
}
