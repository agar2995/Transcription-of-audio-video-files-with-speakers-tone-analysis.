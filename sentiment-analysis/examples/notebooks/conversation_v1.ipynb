{
 "cells": [
  {
   "cell_type": "markdown",
   "metadata": {},
   "source": [
    "# Conversation Service"
   ]
  },
  {
   "cell_type": "code",
   "execution_count": 1,
   "metadata": {
    "collapsed": true
   },
   "outputs": [],
   "source": [
    "import json\n",
    "import sys\n",
    "import os\n",
    "sys.path.append(os.path.join(os.getcwd(),'..','..'))\n",
    "import watson_developer_cloud"
   ]
  },
  {
   "cell_type": "code",
   "execution_count": 2,
   "metadata": {
    "collapsed": true
   },
   "outputs": [],
   "source": [
    "USERNAME = os.environ.get('CONVERSATION_USERNAME','<USERNAME>')\n",
    "PASSWORD = os.environ.get('CONVERSATION_PASSWORD','<PASSWORD>')"
   ]
  },
  {
   "cell_type": "code",
   "execution_count": 4,
   "metadata": {
    "collapsed": true
   },
   "outputs": [],
   "source": [
    "conversation = watson_developer_cloud.ConversationV1(username=USERNAME,\n",
    "                                                     password=PASSWORD,\n",
    "                                                     version='2017-04-21')"
   ]
  },
  {
   "cell_type": "markdown",
   "metadata": {},
   "source": [
    "## Pizza Chatbot"
   ]
  },
  {
   "cell_type": "markdown",
   "metadata": {},
   "source": [
    "Let's create and chat with a simple pizza bot. We'll start by defining the bot's workspace, then add intents and examples to recognize pizza orders. Once the chatbot is configured, we'll send a message to converse with our pizza bot."
   ]
  },
  {
   "cell_type": "code",
   "execution_count": 5,
   "metadata": {},
   "outputs": [
    {
     "name": "stdout",
     "output_type": "stream",
     "text": [
      "{\n",
      "  \"name\": \"example_workspace\",\n",
      "  \"created\": \"2017-05-04T19:44:35.869Z\",\n",
      "  \"updated\": \"2017-05-04T19:44:35.869Z\",\n",
      "  \"language\": \"en\",\n",
      "  \"metadata\": null,\n",
      "  \"description\": \"An example workspace.\",\n",
      "  \"workspace_id\": \"e326ef7b-bde6-4c6c-9573-aedd9e5a70e8\"\n",
      "}\n"
     ]
    }
   ],
   "source": [
    "# define the dialog for our example workspace\n",
    "dialog_nodes = [{'conditions': '#order_pizza',\n",
    "                 'context': None,\n",
    "                 'description': None,\n",
    "                 'dialog_node': 'YesYouCan',\n",
    "                 'go_to': None,\n",
    "                 'metadata': None,\n",
    "                 'output': {'text': {'selection_policy': 'random',\n",
    "                                     'values': ['Yes You can!', 'Of course!']}},\n",
    "                 'parent': None,\n",
    "                 'previous_sibling': None,}]\n",
    "\n",
    "# create an example workspace\n",
    "workspace = conversation.create_workspace(name='example_workspace',\n",
    "                                          description='An example workspace.',\n",
    "                                          language='en',\n",
    "                                          dialog_nodes=dialog_nodes)\n",
    "\n",
    "# print response and save workspace_id\n",
    "print(json.dumps(workspace, indent=2))\n",
    "workspace_id=workspace['workspace_id']"
   ]
  },
  {
   "cell_type": "code",
   "execution_count": 6,
   "metadata": {},
   "outputs": [
    {
     "name": "stdout",
     "output_type": "stream",
     "text": [
      "{\n",
      "  \"intent\": \"order_pizza\",\n",
      "  \"created\": \"2017-05-04T19:44:36.371Z\",\n",
      "  \"updated\": \"2017-05-04T19:44:36.371Z\",\n",
      "  \"description\": \"A pizza order.\"\n",
      "}\n"
     ]
    }
   ],
   "source": [
    "# add an intent to the workspace\n",
    "intent = conversation.create_intent(workspace_id=workspace_id,\n",
    "                                    intent='order_pizza',\n",
    "                                    description='A pizza order.')\n",
    "print(json.dumps(intent, indent=2))"
   ]
  },
  {
   "cell_type": "code",
   "execution_count": 7,
   "metadata": {},
   "outputs": [
    {
     "name": "stdout",
     "output_type": "stream",
     "text": [
      "{\n",
      "  \"text\": \"Can I order a pizza?\",\n",
      "  \"created\": \"2017-05-04T19:44:36.915Z\",\n",
      "  \"updated\": \"2017-05-04T19:44:36.915Z\"\n",
      "}\n",
      "{\n",
      "  \"text\": \"I want to order a pizza.\",\n",
      "  \"created\": \"2017-05-04T19:44:37.393Z\",\n",
      "  \"updated\": \"2017-05-04T19:44:37.393Z\"\n",
      "}\n",
      "{\n",
      "  \"text\": \"pizza order\",\n",
      "  \"created\": \"2017-05-04T19:44:37.932Z\",\n",
      "  \"updated\": \"2017-05-04T19:44:37.932Z\"\n",
      "}\n",
      "{\n",
      "  \"text\": \"pizza to go\",\n",
      "  \"created\": \"2017-05-04T19:44:38.404Z\",\n",
      "  \"updated\": \"2017-05-04T19:44:38.404Z\"\n",
      "}\n"
     ]
    }
   ],
   "source": [
    "# add examples to the intent\n",
    "example1 = conversation.create_example(workspace_id=workspace_id,\n",
    "                                       intent='order_pizza',\n",
    "                                       text='Can I order a pizza?')\n",
    "example2 = conversation.create_example(workspace_id=workspace_id,\n",
    "                                       intent='order_pizza',\n",
    "                                       text='I want to order a pizza.')\n",
    "example3 = conversation.create_example(workspace_id=workspace_id,\n",
    "                                       intent='order_pizza',\n",
    "                                       text='pizza order')\n",
    "example4 = conversation.create_example(workspace_id=workspace_id,\n",
    "                                       intent='order_pizza',\n",
    "                                       text='pizza to go')\n",
    "\n",
    "print(json.dumps(example1, indent=2))\n",
    "print(json.dumps(example2, indent=2))\n",
    "print(json.dumps(example3, indent=2))\n",
    "print(json.dumps(example4, indent=2))"
   ]
  },
  {
   "cell_type": "code",
   "execution_count": 8,
   "metadata": {},
   "outputs": [
    {
     "name": "stdout",
     "output_type": "stream",
     "text": [
      "The workspace status is: Training\n",
      "The workspace should be available shortly. Please try again in 30s.\n",
      "(You can send messages, but not all functionality will be supported yet.)\n"
     ]
    }
   ],
   "source": [
    "# check workspace status (wait for training to complete)\n",
    "workspace = conversation.get_workspace(workspace_id=workspace_id)\n",
    "print('The workspace status is: {0}'.format(workspace['status']))\n",
    "if workspace['status'] == 'Available':\n",
    "    print('Ready to chat!')\n",
    "else:\n",
    "    print('The workspace should be available shortly. Please try again in 30s.')\n",
    "    print('(You can send messages, but not all functionality will be supported yet.)')"
   ]
  },
  {
   "cell_type": "code",
   "execution_count": 9,
   "metadata": {},
   "outputs": [
    {
     "name": "stdout",
     "output_type": "stream",
     "text": [
      "{\n",
      "  \"intents\": [],\n",
      "  \"entities\": [],\n",
      "  \"input\": {\n",
      "    \"text\": \"Can I order a pizza?\"\n",
      "  },\n",
      "  \"output\": {\n",
      "    \"log_messages\": [\n",
      "      {\n",
      "        \"level\": \"warn\",\n",
      "        \"msg\": \"No dialog node matched for the input at a root level.\"\n",
      "      },\n",
      "      {\n",
      "        \"level\": \"warn\",\n",
      "        \"msg\": \"No dialog node condition matched to true in the last dialog round - context.nodes_visited is empty. Falling back to the root node in the next round.\"\n",
      "      }\n",
      "    ],\n",
      "    \"text\": []\n",
      "  },\n",
      "  \"context\": {\n",
      "    \"conversation_id\": \"2fa01d07-f0cb-4b35-b158-d4448016bb5b\",\n",
      "    \"system\": {\n",
      "      \"dialog_stack\": [\n",
      "        {\n",
      "          \"dialog_node\": \"root\"\n",
      "        }\n",
      "      ],\n",
      "      \"dialog_turn_counter\": 1,\n",
      "      \"dialog_request_counter\": 1\n",
      "    }\n",
      "  }\n",
      "}\n"
     ]
    }
   ],
   "source": [
    "# start a chat with the pizza bot\n",
    "input = {'text': 'Can I order a pizza?'}\n",
    "response = conversation.message(workspace_id=workspace_id,\n",
    "                                input=input)\n",
    "print(json.dumps(response, indent=2))"
   ]
  },
  {
   "cell_type": "code",
   "execution_count": 10,
   "metadata": {},
   "outputs": [
    {
     "name": "stdout",
     "output_type": "stream",
     "text": [
      "{\n",
      "  \"intents\": [],\n",
      "  \"entities\": [],\n",
      "  \"input\": {\n",
      "    \"text\": \"medium\"\n",
      "  },\n",
      "  \"output\": {\n",
      "    \"log_messages\": [\n",
      "      {\n",
      "        \"level\": \"warn\",\n",
      "        \"msg\": \"No dialog node matched for the input at a root level.\"\n",
      "      },\n",
      "      {\n",
      "        \"level\": \"warn\",\n",
      "        \"msg\": \"No dialog node condition matched to true in the last dialog round - context.nodes_visited is empty. Falling back to the root node in the next round.\"\n",
      "      }\n",
      "    ],\n",
      "    \"text\": []\n",
      "  },\n",
      "  \"context\": {\n",
      "    \"conversation_id\": \"2fa01d07-f0cb-4b35-b158-d4448016bb5b\",\n",
      "    \"system\": {\n",
      "      \"dialog_stack\": [\n",
      "        {\n",
      "          \"dialog_node\": \"root\"\n",
      "        }\n",
      "      ],\n",
      "      \"dialog_turn_counter\": 2,\n",
      "      \"dialog_request_counter\": 2,\n",
      "      \"branch_exited_reason\": \"fallback\"\n",
      "    }\n",
      "  }\n",
      "}\n"
     ]
    }
   ],
   "source": [
    "# continue a chat with the pizza bot\n",
    "# (when you send multiple requests for the same conversation,\n",
    "#  then include the context object from the previous response)\n",
    "input = {'text': 'medium'}\n",
    "response = conversation.message(workspace_id=workspace_id,\n",
    "                                input=input,\n",
    "                                context=response['context'])\n",
    "print(json.dumps(response, indent=2))"
   ]
  },
  {
   "cell_type": "markdown",
   "metadata": {},
   "source": [
    "## Operation Examples"
   ]
  },
  {
   "cell_type": "markdown",
   "metadata": {},
   "source": [
    "The following examples demonstrate each operation of the Conversation service. They use the pizza chatbot workspace configured above."
   ]
  },
  {
   "cell_type": "markdown",
   "metadata": {},
   "source": [
    "### Message"
   ]
  },
  {
   "cell_type": "code",
   "execution_count": 11,
   "metadata": {},
   "outputs": [
    {
     "name": "stdout",
     "output_type": "stream",
     "text": [
      "{\n",
      "  \"intents\": [],\n",
      "  \"entities\": [],\n",
      "  \"input\": {\n",
      "    \"text\": \"Can I order a pizza?\"\n",
      "  },\n",
      "  \"output\": {\n",
      "    \"log_messages\": [\n",
      "      {\n",
      "        \"level\": \"warn\",\n",
      "        \"msg\": \"No dialog node matched for the input at a root level.\"\n",
      "      },\n",
      "      {\n",
      "        \"level\": \"warn\",\n",
      "        \"msg\": \"No dialog node condition matched to true in the last dialog round - context.nodes_visited is empty. Falling back to the root node in the next round.\"\n",
      "      }\n",
      "    ],\n",
      "    \"text\": []\n",
      "  },\n",
      "  \"context\": {\n",
      "    \"conversation_id\": \"19de6478-695a-4440-8d76-eaa82b22ea69\",\n",
      "    \"system\": {\n",
      "      \"dialog_stack\": [\n",
      "        {\n",
      "          \"dialog_node\": \"root\"\n",
      "        }\n",
      "      ],\n",
      "      \"dialog_turn_counter\": 1,\n",
      "      \"dialog_request_counter\": 1\n",
      "    }\n",
      "  }\n",
      "}\n"
     ]
    }
   ],
   "source": [
    "input = {'text': 'Can I order a pizza?'}\n",
    "response = conversation.message(workspace_id=workspace_id,\n",
    "                                input=input)\n",
    "print(json.dumps(response, indent=2))"
   ]
  },
  {
   "cell_type": "markdown",
   "metadata": {},
   "source": [
    "### Workspaces"
   ]
  },
  {
   "cell_type": "code",
   "execution_count": 12,
   "metadata": {},
   "outputs": [
    {
     "name": "stdout",
     "output_type": "stream",
     "text": [
      "{\n",
      "  \"name\": \"test_workspace\",\n",
      "  \"created\": \"2017-05-04T19:44:41.152Z\",\n",
      "  \"updated\": \"2017-05-04T19:44:41.152Z\",\n",
      "  \"language\": \"en\",\n",
      "  \"metadata\": {},\n",
      "  \"description\": \"Test workspace.\",\n",
      "  \"workspace_id\": \"f21667ef-ba51-4e20-9f46-784970d7b663\"\n",
      "}\n"
     ]
    }
   ],
   "source": [
    "response = conversation.create_workspace(name='test_workspace',\n",
    "                                         description='Test workspace.',\n",
    "                                         language='en',\n",
    "                                         metadata={})\n",
    "print(json.dumps(response, indent=2))\n",
    "test_workspace_id = response['workspace_id']"
   ]
  },
  {
   "cell_type": "code",
   "execution_count": 13,
   "metadata": {},
   "outputs": [
    {
     "name": "stdout",
     "output_type": "stream",
     "text": [
      "{}\n"
     ]
    }
   ],
   "source": [
    "response = conversation.delete_workspace(workspace_id=test_workspace_id)\n",
    "print(json.dumps(response, indent=2))"
   ]
  },
  {
   "cell_type": "code",
   "execution_count": 14,
   "metadata": {},
   "outputs": [
    {
     "name": "stdout",
     "output_type": "stream",
     "text": [
      "{\n",
      "  \"name\": \"example_workspace\",\n",
      "  \"created\": \"2017-05-04T19:44:35.869Z\",\n",
      "  \"intents\": [\n",
      "    {\n",
      "      \"intent\": \"order_pizza\",\n",
      "      \"created\": \"2017-05-04T19:44:36.371Z\",\n",
      "      \"updated\": \"2017-05-04T19:44:38.404Z\",\n",
      "      \"examples\": [\n",
      "        {\n",
      "          \"text\": \"Can I order a pizza?\",\n",
      "          \"created\": \"2017-05-04T19:44:36.915Z\",\n",
      "          \"updated\": \"2017-05-04T19:44:36.915Z\"\n",
      "        },\n",
      "        {\n",
      "          \"text\": \"I want to order a pizza.\",\n",
      "          \"created\": \"2017-05-04T19:44:37.393Z\",\n",
      "          \"updated\": \"2017-05-04T19:44:37.393Z\"\n",
      "        },\n",
      "        {\n",
      "          \"text\": \"pizza order\",\n",
      "          \"created\": \"2017-05-04T19:44:37.932Z\",\n",
      "          \"updated\": \"2017-05-04T19:44:37.932Z\"\n",
      "        },\n",
      "        {\n",
      "          \"text\": \"pizza to go\",\n",
      "          \"created\": \"2017-05-04T19:44:38.404Z\",\n",
      "          \"updated\": \"2017-05-04T19:44:38.404Z\"\n",
      "        }\n",
      "      ],\n",
      "      \"description\": \"A pizza order.\"\n",
      "    }\n",
      "  ],\n",
      "  \"updated\": \"2017-05-04T19:44:38.404Z\",\n",
      "  \"entities\": [],\n",
      "  \"language\": \"en\",\n",
      "  \"metadata\": null,\n",
      "  \"description\": \"An example workspace.\",\n",
      "  \"dialog_nodes\": [\n",
      "    {\n",
      "      \"go_to\": null,\n",
      "      \"output\": {\n",
      "        \"text\": {\n",
      "          \"values\": [\n",
      "            \"Yes You can!\",\n",
      "            \"Of course!\"\n",
      "          ],\n",
      "          \"selection_policy\": \"random\"\n",
      "        }\n",
      "      },\n",
      "      \"parent\": null,\n",
      "      \"context\": null,\n",
      "      \"created\": \"2017-05-04T19:44:35.869Z\",\n",
      "      \"updated\": \"2017-05-04T19:44:35.869Z\",\n",
      "      \"metadata\": null,\n",
      "      \"conditions\": \"#order_pizza\",\n",
      "      \"description\": null,\n",
      "      \"dialog_node\": \"YesYouCan\",\n",
      "      \"previous_sibling\": null\n",
      "    }\n",
      "  ],\n",
      "  \"workspace_id\": \"e326ef7b-bde6-4c6c-9573-aedd9e5a70e8\",\n",
      "  \"counterexamples\": [],\n",
      "  \"status\": \"Training\"\n",
      "}\n"
     ]
    }
   ],
   "source": [
    "response = conversation.get_workspace(workspace_id=workspace_id, export=True)\n",
    "print(json.dumps(response, indent=2))"
   ]
  },
  {
   "cell_type": "code",
   "execution_count": 15,
   "metadata": {},
   "outputs": [
    {
     "name": "stdout",
     "output_type": "stream",
     "text": [
      "{\n",
      "  \"workspaces\": [\n",
      "    {\n",
      "      \"name\": \"Car_Dashboard\",\n",
      "      \"created\": \"2016-07-19T16:31:17.236Z\",\n",
      "      \"updated\": \"2017-05-04T17:11:53.494Z\",\n",
      "      \"language\": \"en\",\n",
      "      \"metadata\": {\n",
      "        \"runtime_version\": \"2016-09-20\"\n",
      "      },\n",
      "      \"description\": \"Cognitive Car workspace which allows multi-turn conversations to perform tasks in the car.\",\n",
      "      \"workspace_id\": \"8d869397-411b-4f0a-864d-a2ba419bb249\"\n",
      "    },\n",
      "    {\n",
      "      \"name\": \"example_workspace\",\n",
      "      \"created\": \"2017-05-04T19:37:05.567Z\",\n",
      "      \"updated\": \"2017-05-04T19:37:23.463Z\",\n",
      "      \"language\": \"en\",\n",
      "      \"metadata\": null,\n",
      "      \"description\": \"An example workspace for ordering pizza.\",\n",
      "      \"workspace_id\": \"745166ef-ff47-4a02-888e-eb145fbc22dd\"\n",
      "    },\n",
      "    {\n",
      "      \"name\": \"example_workspace\",\n",
      "      \"created\": \"2017-05-04T19:44:09.895Z\",\n",
      "      \"updated\": \"2017-05-04T19:44:17.600Z\",\n",
      "      \"language\": \"en\",\n",
      "      \"metadata\": null,\n",
      "      \"description\": \"An example workspace for ordering pizza.\",\n",
      "      \"workspace_id\": \"2a01cb92-43b9-48a0-8402-f62b41bad8ca\"\n",
      "    },\n",
      "    {\n",
      "      \"name\": \"example_workspace\",\n",
      "      \"created\": \"2017-05-04T19:44:35.869Z\",\n",
      "      \"updated\": \"2017-05-04T19:44:38.404Z\",\n",
      "      \"language\": \"en\",\n",
      "      \"metadata\": null,\n",
      "      \"description\": \"An example workspace.\",\n",
      "      \"workspace_id\": \"e326ef7b-bde6-4c6c-9573-aedd9e5a70e8\"\n",
      "    },\n",
      "    {\n",
      "      \"name\": \"LaForge POC\",\n",
      "      \"created\": \"2016-09-07T19:01:46.271Z\",\n",
      "      \"updated\": \"2016-11-29T21:46:38.969Z\",\n",
      "      \"language\": \"en\",\n",
      "      \"metadata\": {\n",
      "        \"runtime_version\": \"2016-09-20\"\n",
      "      },\n",
      "      \"description\": null,\n",
      "      \"workspace_id\": \"4f4046a6-50c5-4a52-9247-b2538f0fe7ac\"\n",
      "    },\n",
      "    {\n",
      "      \"name\": \"test_workspace\",\n",
      "      \"created\": \"2017-05-04T17:29:04.680Z\",\n",
      "      \"updated\": \"2017-05-04T17:29:12.185Z\",\n",
      "      \"language\": \"en\",\n",
      "      \"metadata\": {},\n",
      "      \"description\": \"Updated test workspace.\",\n",
      "      \"workspace_id\": \"8d822b56-3888-4aae-87a6-45275857778f\"\n",
      "    },\n",
      "    {\n",
      "      \"name\": \"test_workspace\",\n",
      "      \"created\": \"2017-05-04T18:11:41.417Z\",\n",
      "      \"updated\": \"2017-05-04T18:11:44.593Z\",\n",
      "      \"language\": \"en\",\n",
      "      \"metadata\": {},\n",
      "      \"description\": \"Test workspace.\",\n",
      "      \"workspace_id\": \"8a4c1701-3762-4933-9d48-bd516cab0988\"\n",
      "    },\n",
      "    {\n",
      "      \"name\": \"test_workspace\",\n",
      "      \"created\": \"2017-05-04T18:14:18.699Z\",\n",
      "      \"updated\": \"2017-05-04T18:14:22.215Z\",\n",
      "      \"language\": \"en\",\n",
      "      \"metadata\": {},\n",
      "      \"description\": \"Test workspace.\",\n",
      "      \"workspace_id\": \"3a914174-5fb1-4fb8-839b-e71d5397aa8e\"\n",
      "    },\n",
      "    {\n",
      "      \"name\": \"test_workspace\",\n",
      "      \"created\": \"2017-05-04T18:29:44.304Z\",\n",
      "      \"updated\": \"2017-05-04T18:29:53.657Z\",\n",
      "      \"language\": \"en\",\n",
      "      \"metadata\": {},\n",
      "      \"description\": \"Test workspace.\",\n",
      "      \"workspace_id\": \"85930ecd-7081-4c78-820d-0cfa0f5ccdd2\"\n",
      "    },\n",
      "    {\n",
      "      \"name\": \"test_workspace\",\n",
      "      \"created\": \"2017-05-04T18:33:50.416Z\",\n",
      "      \"updated\": \"2017-05-04T18:33:59.867Z\",\n",
      "      \"language\": \"en\",\n",
      "      \"metadata\": {},\n",
      "      \"description\": \"Test workspace.\",\n",
      "      \"workspace_id\": \"6af48bf2-3f7b-49f5-983b-d680a9769b72\"\n",
      "    },\n",
      "    {\n",
      "      \"name\": \"test_workspace\",\n",
      "      \"created\": \"2017-05-04T19:38:24.485Z\",\n",
      "      \"updated\": \"2017-05-04T19:38:25.924Z\",\n",
      "      \"language\": \"en\",\n",
      "      \"metadata\": {},\n",
      "      \"description\": \"Updated test workspace.\",\n",
      "      \"workspace_id\": \"69ba1a3f-70ef-45c8-a960-ad9e5a0e956a\"\n",
      "    },\n",
      "    {\n",
      "      \"name\": \"test_workspace\",\n",
      "      \"created\": \"2017-05-04T19:39:49.051Z\",\n",
      "      \"updated\": \"2017-05-04T19:39:50.524Z\",\n",
      "      \"language\": \"en\",\n",
      "      \"metadata\": {},\n",
      "      \"description\": \"Updated test workspace.\",\n",
      "      \"workspace_id\": \"0e0acca5-34a2-441f-8423-53d2074c0801\"\n",
      "    },\n",
      "    {\n",
      "      \"name\": \"\",\n",
      "      \"created\": \"2017-04-21T16:29:28.652Z\",\n",
      "      \"updated\": \"2017-04-21T18:25:56.762Z\",\n",
      "      \"language\": \"en\",\n",
      "      \"metadata\": null,\n",
      "      \"description\": null,\n",
      "      \"workspace_id\": \"a09fc044-af0a-478e-8a76-f869dc34c88a\"\n",
      "    }\n",
      "  ],\n",
      "  \"pagination\": {\n",
      "    \"refresh_url\": \"/v1/workspaces?include_count=none&version=2017-04-21\"\n",
      "  }\n",
      "}\n"
     ]
    }
   ],
   "source": [
    "response = conversation.list_workspaces()\n",
    "print(json.dumps(response, indent=2))"
   ]
  },
  {
   "cell_type": "code",
   "execution_count": 16,
   "metadata": {},
   "outputs": [
    {
     "name": "stdout",
     "output_type": "stream",
     "text": [
      "{\n",
      "  \"name\": \"example_workspace\",\n",
      "  \"created\": \"2017-05-04T19:44:35.869Z\",\n",
      "  \"updated\": \"2017-05-04T19:44:43.174Z\",\n",
      "  \"language\": \"en\",\n",
      "  \"metadata\": null,\n",
      "  \"description\": \"An example workspace for ordering pizza.\",\n",
      "  \"workspace_id\": \"e326ef7b-bde6-4c6c-9573-aedd9e5a70e8\"\n",
      "}\n"
     ]
    }
   ],
   "source": [
    "response = conversation.update_workspace(workspace_id=workspace_id,\n",
    "                                         description='An example workspace for ordering pizza.')\n",
    "print(json.dumps(response, indent=2))"
   ]
  },
  {
   "cell_type": "markdown",
   "metadata": {},
   "source": [
    "### Intents"
   ]
  },
  {
   "cell_type": "code",
   "execution_count": 17,
   "metadata": {},
   "outputs": [
    {
     "name": "stdout",
     "output_type": "stream",
     "text": [
      "{\n",
      "  \"intent\": \"test_intent\",\n",
      "  \"created\": \"2017-05-04T19:44:43.723Z\",\n",
      "  \"updated\": \"2017-05-04T19:44:43.723Z\",\n",
      "  \"description\": \"Test intent.\"\n",
      "}\n"
     ]
    }
   ],
   "source": [
    "response = conversation.create_intent(workspace_id=workspace_id,\n",
    "                                      intent='test_intent',\n",
    "                                      description='Test intent.')\n",
    "print(json.dumps(response, indent=2))"
   ]
  },
  {
   "cell_type": "code",
   "execution_count": 18,
   "metadata": {},
   "outputs": [
    {
     "name": "stdout",
     "output_type": "stream",
     "text": [
      "{}\n"
     ]
    }
   ],
   "source": [
    "response = conversation.delete_intent(workspace_id=workspace_id,\n",
    "                                      intent='test_intent')\n",
    "print(json.dumps(response, indent=2))"
   ]
  },
  {
   "cell_type": "code",
   "execution_count": 19,
   "metadata": {},
   "outputs": [
    {
     "name": "stdout",
     "output_type": "stream",
     "text": [
      "{\n",
      "  \"intent\": \"order_pizza\",\n",
      "  \"created\": \"2017-05-04T19:44:36.371Z\",\n",
      "  \"updated\": \"2017-05-04T19:44:38.404Z\",\n",
      "  \"examples\": [\n",
      "    {\n",
      "      \"text\": \"Can I order a pizza?\",\n",
      "      \"created\": \"2017-05-04T19:44:36.915Z\",\n",
      "      \"updated\": \"2017-05-04T19:44:36.915Z\"\n",
      "    },\n",
      "    {\n",
      "      \"text\": \"I want to order a pizza.\",\n",
      "      \"created\": \"2017-05-04T19:44:37.393Z\",\n",
      "      \"updated\": \"2017-05-04T19:44:37.393Z\"\n",
      "    },\n",
      "    {\n",
      "      \"text\": \"pizza order\",\n",
      "      \"created\": \"2017-05-04T19:44:37.932Z\",\n",
      "      \"updated\": \"2017-05-04T19:44:37.932Z\"\n",
      "    },\n",
      "    {\n",
      "      \"text\": \"pizza to go\",\n",
      "      \"created\": \"2017-05-04T19:44:38.404Z\",\n",
      "      \"updated\": \"2017-05-04T19:44:38.404Z\"\n",
      "    }\n",
      "  ],\n",
      "  \"description\": \"A pizza order.\"\n",
      "}\n"
     ]
    }
   ],
   "source": [
    "response = conversation.get_intent(workspace_id=workspace_id,\n",
    "                                   intent='order_pizza',\n",
    "                                   export=True)\n",
    "print(json.dumps(response, indent=2))"
   ]
  },
  {
   "cell_type": "code",
   "execution_count": 20,
   "metadata": {},
   "outputs": [
    {
     "name": "stdout",
     "output_type": "stream",
     "text": [
      "{\n",
      "  \"intents\": [\n",
      "    {\n",
      "      \"intent\": \"order_pizza\",\n",
      "      \"created\": \"2017-05-04T19:44:36.371Z\",\n",
      "      \"updated\": \"2017-05-04T19:44:38.404Z\",\n",
      "      \"examples\": [\n",
      "        {\n",
      "          \"text\": \"Can I order a pizza?\",\n",
      "          \"created\": \"2017-05-04T19:44:36.915Z\",\n",
      "          \"updated\": \"2017-05-04T19:44:36.915Z\"\n",
      "        },\n",
      "        {\n",
      "          \"text\": \"I want to order a pizza.\",\n",
      "          \"created\": \"2017-05-04T19:44:37.393Z\",\n",
      "          \"updated\": \"2017-05-04T19:44:37.393Z\"\n",
      "        },\n",
      "        {\n",
      "          \"text\": \"pizza order\",\n",
      "          \"created\": \"2017-05-04T19:44:37.932Z\",\n",
      "          \"updated\": \"2017-05-04T19:44:37.932Z\"\n",
      "        },\n",
      "        {\n",
      "          \"text\": \"pizza to go\",\n",
      "          \"created\": \"2017-05-04T19:44:38.404Z\",\n",
      "          \"updated\": \"2017-05-04T19:44:38.404Z\"\n",
      "        }\n",
      "      ],\n",
      "      \"description\": \"A pizza order.\"\n",
      "    }\n",
      "  ],\n",
      "  \"pagination\": {\n",
      "    \"refresh_url\": \"/v1/workspaces/e326ef7b-bde6-4c6c-9573-aedd9e5a70e8/intents?include_count=none&version=2017-04-21&export=true\"\n",
      "  }\n",
      "}\n"
     ]
    }
   ],
   "source": [
    "response = conversation.list_intents(workspace_id=workspace_id,\n",
    "                                     export=True)\n",
    "print(json.dumps(response, indent=2))"
   ]
  },
  {
   "cell_type": "code",
   "execution_count": 21,
   "metadata": {},
   "outputs": [
    {
     "name": "stdout",
     "output_type": "stream",
     "text": [
      "{\n",
      "  \"intent\": \"order_pizza\",\n",
      "  \"created\": \"2017-05-04T19:44:36.371Z\",\n",
      "  \"updated\": \"2017-05-04T19:44:45.616Z\",\n",
      "  \"description\": \"Order a pizza.\"\n",
      "}\n"
     ]
    }
   ],
   "source": [
    "response = conversation.update_intent(workspace_id=workspace_id,\n",
    "                                      intent='order_pizza',\n",
    "                                      new_intent='order_pizza',\n",
    "                                      new_description='Order a pizza.')\n",
    "print(json.dumps(response, indent=2))"
   ]
  },
  {
   "cell_type": "markdown",
   "metadata": {},
   "source": [
    "### Examples"
   ]
  },
  {
   "cell_type": "code",
   "execution_count": 22,
   "metadata": {},
   "outputs": [
    {
     "name": "stdout",
     "output_type": "stream",
     "text": [
      "{\n",
      "  \"text\": \"Gimme a pizza with pepperoni\",\n",
      "  \"created\": \"2017-05-04T19:44:46.237Z\",\n",
      "  \"updated\": \"2017-05-04T19:44:46.237Z\"\n",
      "}\n"
     ]
    }
   ],
   "source": [
    "response = conversation.create_example(workspace_id=workspace_id,\n",
    "                                       intent='order_pizza',\n",
    "                                       text='Gimme a pizza with pepperoni')\n",
    "print(json.dumps(response, indent=2))"
   ]
  },
  {
   "cell_type": "code",
   "execution_count": 23,
   "metadata": {},
   "outputs": [
    {
     "name": "stdout",
     "output_type": "stream",
     "text": [
      "{}\n"
     ]
    }
   ],
   "source": [
    "response = conversation.delete_example(workspace_id=workspace_id,\n",
    "                                       intent='order_pizza',\n",
    "                                       text='Gimme a pizza with pepperoni')\n",
    "print(json.dumps(response, indent=2))"
   ]
  },
  {
   "cell_type": "code",
   "execution_count": 24,
   "metadata": {},
   "outputs": [
    {
     "name": "stdout",
     "output_type": "stream",
     "text": [
      "{\n",
      "  \"text\": \"I want to order a pizza.\",\n",
      "  \"created\": \"2017-05-04T19:44:37.393Z\",\n",
      "  \"updated\": \"2017-05-04T19:44:37.393Z\"\n",
      "}\n"
     ]
    }
   ],
   "source": [
    "response = conversation.get_example(workspace_id=workspace_id,\n",
    "                                    intent='order_pizza',\n",
    "                                    text='I want to order a pizza.')\n",
    "print(json.dumps(response, indent=2))"
   ]
  },
  {
   "cell_type": "code",
   "execution_count": 25,
   "metadata": {},
   "outputs": [
    {
     "name": "stdout",
     "output_type": "stream",
     "text": [
      "{\n",
      "  \"examples\": [\n",
      "    {\n",
      "      \"text\": \"Can I order a pizza?\",\n",
      "      \"created\": \"2017-05-04T19:44:36.915Z\",\n",
      "      \"updated\": \"2017-05-04T19:44:36.915Z\"\n",
      "    },\n",
      "    {\n",
      "      \"text\": \"I want to order a pizza.\",\n",
      "      \"created\": \"2017-05-04T19:44:37.393Z\",\n",
      "      \"updated\": \"2017-05-04T19:44:37.393Z\"\n",
      "    },\n",
      "    {\n",
      "      \"text\": \"pizza order\",\n",
      "      \"created\": \"2017-05-04T19:44:37.932Z\",\n",
      "      \"updated\": \"2017-05-04T19:44:37.932Z\"\n",
      "    },\n",
      "    {\n",
      "      \"text\": \"pizza to go\",\n",
      "      \"created\": \"2017-05-04T19:44:38.404Z\",\n",
      "      \"updated\": \"2017-05-04T19:44:38.404Z\"\n",
      "    }\n",
      "  ],\n",
      "  \"pagination\": {\n",
      "    \"refresh_url\": \"/v1/workspaces/e326ef7b-bde6-4c6c-9573-aedd9e5a70e8/intents/order_pizza/examples?include_count=none&version=2017-04-21\"\n",
      "  }\n",
      "}\n"
     ]
    }
   ],
   "source": [
    "response = conversation.list_examples(workspace_id=workspace_id,\n",
    "                                      intent='order_pizza')\n",
    "print(json.dumps(response, indent=2))"
   ]
  },
  {
   "cell_type": "code",
   "execution_count": 26,
   "metadata": {},
   "outputs": [
    {
     "name": "stdout",
     "output_type": "stream",
     "text": [
      "{\n",
      "  \"text\": \"I want to order a pizza with pepperoni.\",\n",
      "  \"created\": \"2017-05-04T19:44:37.393Z\",\n",
      "  \"updated\": \"2017-05-04T19:44:48.409Z\"\n",
      "}\n"
     ]
    }
   ],
   "source": [
    "response = conversation.update_example(workspace_id=workspace_id,\n",
    "                                       intent='order_pizza',\n",
    "                                       text='I want to order a pizza.',\n",
    "                                       new_text='I want to order a pizza with pepperoni.')\n",
    "print(json.dumps(response, indent=2))"
   ]
  },
  {
   "cell_type": "markdown",
   "metadata": {},
   "source": [
    "### Counterexamples"
   ]
  },
  {
   "cell_type": "code",
   "execution_count": 27,
   "metadata": {},
   "outputs": [
    {
     "name": "stdout",
     "output_type": "stream",
     "text": [
      "{\n",
      "  \"text\": \"I want financial advice today.\",\n",
      "  \"created\": \"2017-05-04T19:44:48.903Z\",\n",
      "  \"updated\": \"2017-05-04T19:44:48.903Z\"\n",
      "}\n"
     ]
    }
   ],
   "source": [
    "response = conversation.create_counterexample(workspace_id=workspace_id,\n",
    "                                              text='I want financial advice today.')\n",
    "print(json.dumps(response, indent=2))"
   ]
  },
  {
   "cell_type": "code",
   "execution_count": 28,
   "metadata": {},
   "outputs": [
    {
     "name": "stdout",
     "output_type": "stream",
     "text": [
      "{\n",
      "  \"text\": \"I want financial advice today.\",\n",
      "  \"created\": \"2017-05-04T19:44:48.903Z\",\n",
      "  \"updated\": \"2017-05-04T19:44:48.903Z\"\n",
      "}\n"
     ]
    }
   ],
   "source": [
    "response = conversation.get_counterexample(workspace_id=workspace_id,\n",
    "                                           text='I want financial advice today.')\n",
    "print(json.dumps(response, indent=2))"
   ]
  },
  {
   "cell_type": "code",
   "execution_count": 29,
   "metadata": {},
   "outputs": [
    {
     "name": "stdout",
     "output_type": "stream",
     "text": [
      "{\n",
      "  \"counterexamples\": [\n",
      "    {\n",
      "      \"text\": \"I want financial advice today.\",\n",
      "      \"created\": \"2017-05-04T19:44:48.903Z\",\n",
      "      \"updated\": \"2017-05-04T19:44:48.903Z\"\n",
      "    }\n",
      "  ],\n",
      "  \"pagination\": {\n",
      "    \"refresh_url\": \"/v1/workspaces/e326ef7b-bde6-4c6c-9573-aedd9e5a70e8/counterexamples?include_count=none&version=2017-04-21\"\n",
      "  }\n",
      "}\n"
     ]
    }
   ],
   "source": [
    "response = conversation.list_counterexamples(workspace_id=workspace_id)\n",
    "print(json.dumps(response, indent=2))"
   ]
  },
  {
   "cell_type": "code",
   "execution_count": 30,
   "metadata": {},
   "outputs": [
    {
     "name": "stdout",
     "output_type": "stream",
     "text": [
      "{\n",
      "  \"text\": \"I want financial advice for tomorrow.\",\n",
      "  \"created\": \"2017-05-04T19:44:48.903Z\",\n",
      "  \"updated\": \"2017-05-04T19:44:50.444Z\"\n",
      "}\n"
     ]
    }
   ],
   "source": [
    "response = conversation.update_counterexample(workspace_id=workspace_id,\n",
    "                                              text='I want financial advice today.',\n",
    "                                              new_text='I want financial advice for tomorrow.')\n",
    "print(json.dumps(response, indent=2))"
   ]
  },
  {
   "cell_type": "code",
   "execution_count": 31,
   "metadata": {},
   "outputs": [
    {
     "name": "stdout",
     "output_type": "stream",
     "text": [
      "{}\n"
     ]
    }
   ],
   "source": [
    "response = conversation.delete_counterexample(workspace_id=workspace_id,\n",
    "                                              text='I want financial advice for tomorrow.')\n",
    "print(json.dumps(response, indent=2))"
   ]
  },
  {
   "cell_type": "markdown",
   "metadata": {},
   "source": [
    "## Entities"
   ]
  },
  {
   "cell_type": "code",
   "execution_count": 32,
   "metadata": {
    "collapsed": true
   },
   "outputs": [],
   "source": [
    "values = [{\"value\": \"juice\"}]"
   ]
  },
  {
   "cell_type": "code",
   "execution_count": 33,
   "metadata": {},
   "outputs": [
    {
     "name": "stdout",
     "output_type": "stream",
     "text": [
      "{\n",
      "  \"entity\": \"test_entity\",\n",
      "  \"created\": \"2017-05-04T19:44:51.395Z\",\n",
      "  \"updated\": \"2017-05-04T19:44:51.395Z\",\n",
      "  \"metadata\": null,\n",
      "  \"description\": \"A test entity.\"\n",
      "}\n"
     ]
    }
   ],
   "source": [
    "response = conversation.create_entity(workspace_id=workspace_id,\n",
    "                                      entity='test_entity',\n",
    "                                      description='A test entity.',\n",
    "                                      values=values)\n",
    "print(json.dumps(response, indent=2))"
   ]
  },
  {
   "cell_type": "code",
   "execution_count": 34,
   "metadata": {},
   "outputs": [
    {
     "name": "stdout",
     "output_type": "stream",
     "text": [
      "{\n",
      "  \"entity\": \"test_entity\",\n",
      "  \"values\": [\n",
      "    {\n",
      "      \"value\": \"juice\",\n",
      "      \"created\": \"2017-05-04T19:44:51.395Z\",\n",
      "      \"updated\": \"2017-05-04T19:44:51.395Z\",\n",
      "      \"metadata\": null\n",
      "    }\n",
      "  ],\n",
      "  \"created\": \"2017-05-04T19:44:51.395Z\",\n",
      "  \"updated\": \"2017-05-04T19:44:51.395Z\",\n",
      "  \"metadata\": null,\n",
      "  \"description\": \"A test entity.\"\n",
      "}\n"
     ]
    }
   ],
   "source": [
    "response = conversation.get_entity(workspace_id=workspace_id,\n",
    "                                   entity='test_entity',\n",
    "                                   export=True)\n",
    "print(json.dumps(response, indent=2))"
   ]
  },
  {
   "cell_type": "code",
   "execution_count": 35,
   "metadata": {},
   "outputs": [
    {
     "name": "stdout",
     "output_type": "stream",
     "text": [
      "{\n",
      "  \"entities\": [\n",
      "    {\n",
      "      \"entity\": \"test_entity\",\n",
      "      \"created\": \"2017-05-04T19:44:51.395Z\",\n",
      "      \"updated\": \"2017-05-04T19:44:51.395Z\",\n",
      "      \"metadata\": null,\n",
      "      \"description\": \"A test entity.\"\n",
      "    }\n",
      "  ],\n",
      "  \"pagination\": {\n",
      "    \"refresh_url\": \"/v1/workspaces/e326ef7b-bde6-4c6c-9573-aedd9e5a70e8/entities?include_count=none&version=2017-04-21&export=none\"\n",
      "  }\n",
      "}\n"
     ]
    }
   ],
   "source": [
    "response = conversation.list_entities(workspace_id=workspace_id)\n",
    "print(json.dumps(response, indent=2))"
   ]
  },
  {
   "cell_type": "code",
   "execution_count": 36,
   "metadata": {},
   "outputs": [
    {
     "name": "stdout",
     "output_type": "stream",
     "text": [
      "{\n",
      "  \"entity\": \"test_entity\",\n",
      "  \"created\": \"2017-05-04T19:44:51.395Z\",\n",
      "  \"updated\": \"2017-05-04T19:44:53.110Z\",\n",
      "  \"metadata\": null,\n",
      "  \"description\": \"An updated test entity.\"\n",
      "}\n"
     ]
    }
   ],
   "source": [
    "response = conversation.update_entity(workspace_id=workspace_id,\n",
    "                                      entity='test_entity',\n",
    "                                      new_description='An updated test entity.')\n",
    "print(json.dumps(response, indent=2))"
   ]
  },
  {
   "cell_type": "code",
   "execution_count": 37,
   "metadata": {},
   "outputs": [
    {
     "name": "stdout",
     "output_type": "stream",
     "text": [
      "{}\n"
     ]
    }
   ],
   "source": [
    "response = conversation.delete_entity(workspace_id=workspace_id,\n",
    "                                      entity='test_entity')\n",
    "print(json.dumps(response, indent=2))"
   ]
  },
  {
   "cell_type": "markdown",
   "metadata": {},
   "source": [
    "## Synonyms"
   ]
  },
  {
   "cell_type": "code",
   "execution_count": 38,
   "metadata": {},
   "outputs": [
    {
     "data": {
      "text/plain": [
       "{'created': '2017-05-04T19:44:54.077Z',\n",
       " 'description': None,\n",
       " 'entity': 'beverage',\n",
       " 'metadata': None,\n",
       " 'updated': '2017-05-04T19:44:54.077Z'}"
      ]
     },
     "execution_count": 38,
     "metadata": {},
     "output_type": "execute_result"
    }
   ],
   "source": [
    "values = [{\"value\": \"orange juice\"}]\n",
    "conversation.create_entity(workspace_id, 'beverage', values=values)"
   ]
  },
  {
   "cell_type": "code",
   "execution_count": 39,
   "metadata": {},
   "outputs": [
    {
     "name": "stdout",
     "output_type": "stream",
     "text": [
      "{\n",
      "  \"created\": \"2017-05-04T19:44:54.613Z\",\n",
      "  \"synonym\": \"oj\",\n",
      "  \"updated\": \"2017-05-04T19:44:54.613Z\"\n",
      "}\n"
     ]
    }
   ],
   "source": [
    "response = conversation.create_synonym(workspace_id, 'beverage', 'orange juice', 'oj')\n",
    "print(json.dumps(response, indent=2))"
   ]
  },
  {
   "cell_type": "code",
   "execution_count": 40,
   "metadata": {},
   "outputs": [
    {
     "name": "stdout",
     "output_type": "stream",
     "text": [
      "{\n",
      "  \"created\": \"2017-05-04T19:44:54.613Z\",\n",
      "  \"synonym\": \"oj\",\n",
      "  \"updated\": \"2017-05-04T19:44:54.613Z\"\n",
      "}\n"
     ]
    }
   ],
   "source": [
    "response = conversation.get_synonym(workspace_id, 'beverage', 'orange juice', 'oj')\n",
    "print(json.dumps(response, indent=2))"
   ]
  },
  {
   "cell_type": "code",
   "execution_count": 41,
   "metadata": {},
   "outputs": [
    {
     "name": "stdout",
     "output_type": "stream",
     "text": [
      "{\n",
      "  \"synonyms\": [\n",
      "    {\n",
      "      \"created\": \"2017-05-04T19:44:54.613Z\",\n",
      "      \"synonym\": \"oj\",\n",
      "      \"updated\": \"2017-05-04T19:44:54.613Z\"\n",
      "    }\n",
      "  ],\n",
      "  \"pagination\": {\n",
      "    \"refresh_url\": \"/v1/workspaces/e326ef7b-bde6-4c6c-9573-aedd9e5a70e8/entities/beverage/values/orange%20juice/synonyms?include_count=none&version=2017-04-21\"\n",
      "  }\n",
      "}\n"
     ]
    }
   ],
   "source": [
    "response = conversation.list_synonyms(workspace_id, 'beverage', 'orange juice')\n",
    "print(json.dumps(response, indent=2))"
   ]
  },
  {
   "cell_type": "code",
   "execution_count": 42,
   "metadata": {},
   "outputs": [
    {
     "name": "stdout",
     "output_type": "stream",
     "text": [
      "{\n",
      "  \"created\": \"2017-05-04T19:44:54.613Z\",\n",
      "  \"synonym\": \"OJ\",\n",
      "  \"updated\": \"2017-05-04T19:44:56.139Z\"\n",
      "}\n"
     ]
    }
   ],
   "source": [
    "response = conversation.update_synonym(workspace_id, 'beverage', 'orange juice', 'oj', 'OJ')\n",
    "print(json.dumps(response, indent=2))"
   ]
  },
  {
   "cell_type": "code",
   "execution_count": 43,
   "metadata": {},
   "outputs": [
    {
     "name": "stdout",
     "output_type": "stream",
     "text": [
      "{}\n"
     ]
    }
   ],
   "source": [
    "response = conversation.delete_synonym(workspace_id, 'beverage', 'orange juice', 'OJ')\n",
    "print(json.dumps(response, indent=2))"
   ]
  },
  {
   "cell_type": "code",
   "execution_count": 44,
   "metadata": {},
   "outputs": [
    {
     "data": {
      "text/plain": [
       "{}"
      ]
     },
     "execution_count": 44,
     "metadata": {},
     "output_type": "execute_result"
    }
   ],
   "source": [
    "conversation.delete_entity(workspace_id, 'beverage')"
   ]
  },
  {
   "cell_type": "markdown",
   "metadata": {},
   "source": [
    "## Values"
   ]
  },
  {
   "cell_type": "code",
   "execution_count": 45,
   "metadata": {},
   "outputs": [
    {
     "data": {
      "text/plain": [
       "{'created': '2017-05-04T19:44:57.676Z',\n",
       " 'description': None,\n",
       " 'entity': 'test_entity',\n",
       " 'metadata': None,\n",
       " 'updated': '2017-05-04T19:44:57.676Z'}"
      ]
     },
     "execution_count": 45,
     "metadata": {},
     "output_type": "execute_result"
    }
   ],
   "source": [
    "conversation.create_entity(workspace_id, 'test_entity')"
   ]
  },
  {
   "cell_type": "code",
   "execution_count": 46,
   "metadata": {},
   "outputs": [
    {
     "name": "stdout",
     "output_type": "stream",
     "text": [
      "{\n",
      "  \"value\": \"test\",\n",
      "  \"created\": \"2017-05-04T19:44:58.202Z\",\n",
      "  \"updated\": \"2017-05-04T19:44:58.202Z\",\n",
      "  \"metadata\": null\n",
      "}\n"
     ]
    }
   ],
   "source": [
    "response = conversation.create_value(workspace_id, 'test_entity', 'test')\n",
    "print(json.dumps(response, indent=2))"
   ]
  },
  {
   "cell_type": "code",
   "execution_count": 47,
   "metadata": {},
   "outputs": [
    {
     "name": "stdout",
     "output_type": "stream",
     "text": [
      "{\n",
      "  \"value\": \"test\",\n",
      "  \"created\": \"2017-05-04T19:44:58.202Z\",\n",
      "  \"updated\": \"2017-05-04T19:44:58.202Z\",\n",
      "  \"metadata\": null\n",
      "}\n"
     ]
    }
   ],
   "source": [
    "response = conversation.get_value(workspace_id, 'test_entity', 'test')\n",
    "print(json.dumps(response, indent=2))"
   ]
  },
  {
   "cell_type": "code",
   "execution_count": 48,
   "metadata": {},
   "outputs": [
    {
     "name": "stdout",
     "output_type": "stream",
     "text": [
      "{\n",
      "  \"values\": [\n",
      "    {\n",
      "      \"value\": \"test\",\n",
      "      \"created\": \"2017-05-04T19:44:58.202Z\",\n",
      "      \"updated\": \"2017-05-04T19:44:58.202Z\",\n",
      "      \"metadata\": null\n",
      "    }\n",
      "  ],\n",
      "  \"pagination\": {\n",
      "    \"refresh_url\": \"/v1/workspaces/e326ef7b-bde6-4c6c-9573-aedd9e5a70e8/entities/test_entity/values?include_count=none&version=2017-04-21&export=none\"\n",
      "  }\n",
      "}\n"
     ]
    }
   ],
   "source": [
    "response = conversation.list_values(workspace_id, 'test_entity')\n",
    "print(json.dumps(response, indent=2))"
   ]
  },
  {
   "cell_type": "code",
   "execution_count": 49,
   "metadata": {},
   "outputs": [
    {
     "name": "stdout",
     "output_type": "stream",
     "text": [
      "{\n",
      "  \"value\": \"example\",\n",
      "  \"created\": \"2017-05-04T19:44:58.202Z\",\n",
      "  \"updated\": \"2017-05-04T19:44:59.661Z\",\n",
      "  \"metadata\": null\n",
      "}\n"
     ]
    }
   ],
   "source": [
    "response = conversation.update_value(workspace_id, 'test_entity', 'test', 'example')\n",
    "print(json.dumps(response, indent=2))"
   ]
  },
  {
   "cell_type": "code",
   "execution_count": 50,
   "metadata": {},
   "outputs": [
    {
     "name": "stdout",
     "output_type": "stream",
     "text": [
      "{}\n"
     ]
    }
   ],
   "source": [
    "response = conversation.delete_value(workspace_id, 'test_entity', 'example')\n",
    "print(json.dumps(response, indent=2))"
   ]
  },
  {
   "cell_type": "code",
   "execution_count": 51,
   "metadata": {},
   "outputs": [
    {
     "data": {
      "text/plain": [
       "{}"
      ]
     },
     "execution_count": 51,
     "metadata": {},
     "output_type": "execute_result"
    }
   ],
   "source": [
    "conversation.delete_entity(workspace_id, 'test_entity')"
   ]
  },
  {
   "cell_type": "markdown",
   "metadata": {},
   "source": [
    "## Logs"
   ]
  },
  {
   "cell_type": "code",
   "execution_count": 52,
   "metadata": {},
   "outputs": [
    {
     "name": "stdout",
     "output_type": "stream",
     "text": [
      "{\n",
      "  \"logs\": [\n",
      "    {\n",
      "      \"request\": {\n",
      "        \"input\": {\n",
      "          \"text\": \"Can I order a pizza?\"\n",
      "        }\n",
      "      },\n",
      "      \"response\": {\n",
      "        \"intents\": [],\n",
      "        \"entities\": [],\n",
      "        \"input\": {\n",
      "          \"text\": \"Can I order a pizza?\"\n",
      "        },\n",
      "        \"output\": {\n",
      "          \"log_messages\": [\n",
      "            {\n",
      "              \"level\": \"warn\",\n",
      "              \"msg\": \"No dialog node matched for the input at a root level.\"\n",
      "            },\n",
      "            {\n",
      "              \"level\": \"warn\",\n",
      "              \"msg\": \"No dialog node condition matched to true in the last dialog round - context.nodes_visited is empty. Falling back to the root node in the next round.\"\n",
      "            }\n",
      "          ],\n",
      "          \"text\": []\n",
      "        },\n",
      "        \"context\": {\n",
      "          \"conversation_id\": \"2fa01d07-f0cb-4b35-b158-d4448016bb5b\",\n",
      "          \"system\": {\n",
      "            \"dialog_stack\": [\n",
      "              {\n",
      "                \"dialog_node\": \"root\"\n",
      "              }\n",
      "            ],\n",
      "            \"dialog_turn_counter\": 1,\n",
      "            \"dialog_request_counter\": 1\n",
      "          }\n",
      "        }\n",
      "      },\n",
      "      \"request_timestamp\": \"2017-05-04T19:44:39.535Z\",\n",
      "      \"response_timestamp\": \"2017-05-04T19:44:39.583Z\",\n",
      "      \"log_id\": \"df29092c-f530-4a5f-b443-83df3532ab79\"\n",
      "    },\n",
      "    {\n",
      "      \"request\": {\n",
      "        \"input\": {\n",
      "          \"text\": \"medium\"\n",
      "        },\n",
      "        \"context\": {\n",
      "          \"conversation_id\": \"2fa01d07-f0cb-4b35-b158-d4448016bb5b\",\n",
      "          \"system\": {\n",
      "            \"dialog_stack\": [\n",
      "              {\n",
      "                \"dialog_node_s\": \"root\"\n",
      "              }\n",
      "            ],\n",
      "            \"dialog_turn_counter\": 1,\n",
      "            \"dialog_request_counter\": 1\n",
      "          }\n",
      "        }\n",
      "      },\n",
      "      \"response\": {\n",
      "        \"intents\": [],\n",
      "        \"entities\": [],\n",
      "        \"input\": {\n",
      "          \"text\": \"medium\"\n",
      "        },\n",
      "        \"output\": {\n",
      "          \"log_messages\": [\n",
      "            {\n",
      "              \"level\": \"warn\",\n",
      "              \"msg\": \"No dialog node matched for the input at a root level.\"\n",
      "            },\n",
      "            {\n",
      "              \"level\": \"warn\",\n",
      "              \"msg\": \"No dialog node condition matched to true in the last dialog round - context.nodes_visited is empty. Falling back to the root node in the next round.\"\n",
      "            }\n",
      "          ],\n",
      "          \"text\": []\n",
      "        },\n",
      "        \"context\": {\n",
      "          \"conversation_id\": \"2fa01d07-f0cb-4b35-b158-d4448016bb5b\",\n",
      "          \"system\": {\n",
      "            \"dialog_stack\": [\n",
      "              {\n",
      "                \"dialog_node\": \"root\"\n",
      "              }\n",
      "            ],\n",
      "            \"dialog_turn_counter\": 2,\n",
      "            \"dialog_request_counter\": 2,\n",
      "            \"branch_exited_reason\": \"fallback\"\n",
      "          }\n",
      "        }\n",
      "      },\n",
      "      \"request_timestamp\": \"2017-05-04T19:44:40.097Z\",\n",
      "      \"response_timestamp\": \"2017-05-04T19:44:40.120Z\",\n",
      "      \"log_id\": \"7e811f99-2ef1-4a54-9b98-5bfc1307c8df\"\n",
      "    },\n",
      "    {\n",
      "      \"request\": {\n",
      "        \"input\": {\n",
      "          \"text\": \"Can I order a pizza?\"\n",
      "        }\n",
      "      },\n",
      "      \"response\": {\n",
      "        \"intents\": [],\n",
      "        \"entities\": [],\n",
      "        \"input\": {\n",
      "          \"text\": \"Can I order a pizza?\"\n",
      "        },\n",
      "        \"output\": {\n",
      "          \"log_messages\": [\n",
      "            {\n",
      "              \"level\": \"warn\",\n",
      "              \"msg\": \"No dialog node matched for the input at a root level.\"\n",
      "            },\n",
      "            {\n",
      "              \"level\": \"warn\",\n",
      "              \"msg\": \"No dialog node condition matched to true in the last dialog round - context.nodes_visited is empty. Falling back to the root node in the next round.\"\n",
      "            }\n",
      "          ],\n",
      "          \"text\": []\n",
      "        },\n",
      "        \"context\": {\n",
      "          \"conversation_id\": \"19de6478-695a-4440-8d76-eaa82b22ea69\",\n",
      "          \"system\": {\n",
      "            \"dialog_stack\": [\n",
      "              {\n",
      "                \"dialog_node\": \"root\"\n",
      "              }\n",
      "            ],\n",
      "            \"dialog_turn_counter\": 1,\n",
      "            \"dialog_request_counter\": 1\n",
      "          }\n",
      "        }\n",
      "      },\n",
      "      \"request_timestamp\": \"2017-05-04T19:44:40.634Z\",\n",
      "      \"response_timestamp\": \"2017-05-04T19:44:40.683Z\",\n",
      "      \"log_id\": \"28a2014c-27bb-4e6a-950d-83024824a7ba\"\n",
      "    }\n",
      "  ],\n",
      "  \"pagination\": {}\n",
      "}\n"
     ]
    }
   ],
   "source": [
    "response = conversation.list_logs(workspace_id=workspace_id)\n",
    "print(json.dumps(response, indent=2))"
   ]
  },
  {
   "cell_type": "markdown",
   "metadata": {},
   "source": [
    "## Cleanup (Delete Pizza Chatbot)"
   ]
  },
  {
   "cell_type": "markdown",
   "metadata": {},
   "source": [
    "Let's cleanup by deleting the pizza chatbot, since it is no longer needed."
   ]
  },
  {
   "cell_type": "code",
   "execution_count": 53,
   "metadata": {},
   "outputs": [
    {
     "data": {
      "text/plain": [
       "{}"
      ]
     },
     "execution_count": 53,
     "metadata": {},
     "output_type": "execute_result"
    }
   ],
   "source": [
    "# clean-up by deleting the workspace\n",
    "conversation.delete_workspace(workspace_id=workspace_id)"
   ]
  }
 ],
 "metadata": {
  "kernelspec": {
   "display_name": "Python 3",
   "language": "python",
   "name": "python3"
  },
  "language_info": {
   "codemirror_mode": {
    "name": "ipython",
    "version": 3
   },
   "file_extension": ".py",
   "mimetype": "text/x-python",
   "name": "python",
   "nbconvert_exporter": "python",
   "pygments_lexer": "ipython3",
   "version": "3.6.1"
  }
 },
 "nbformat": 4,
 "nbformat_minor": 2
}
